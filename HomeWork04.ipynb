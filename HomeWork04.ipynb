{
 "cells": [
  {
   "cell_type": "markdown",
   "metadata": {},
   "source": [
    "<ul>\n",
    "<li>Случайная непрерывная величина A имеет равномерное распределение на промежутке (200, 800].\n",
    "Найдите ее среднее значение и дисперсию.</li>\n",
    "\n",
    "<li>О случайной непрерывной равномерно распределенной величине B известно, что ее дисперсия равна 0.2.\n",
    "Можно ли найти правую границу величины B и ее среднее значение зная, что левая граница равна 0.5?\n",
    "Если да, найдите ее.</li>\n",
    "\n",
    "<li>Непрерывная случайная величина X распределена нормально и задана плотностью распределения\n",
    "f(x) = (1 / (4 * sqrt(2pi))) * exp((-(x+2)**2) / 32)\n",
    "Найдите:\n",
    "    <ul>\n",
    "        <li>а). M(X)</li>\n",
    "        <li>б). D(X)</li>\n",
    "        <li>в). std(X) (среднее квадратичное отклонение)</li>\n",
    "    </ul>\n",
    "</li>\n",
    "\n",
    "<li>Рост взрослого населения города X имеет нормальное распределение.\n",
    "Причем, средний рост равен 174 см, а среднее квадратичное отклонение равно 8 см.\n",
    "Какова вероятность того, что случайным образом выбранный взрослый человек имеет рост:\n",
    "    <ul>\n",
    "        <li>а). больше 182 см</li>\n",
    "        <li>б). больше 190 см</li>\n",
    "        <li>в). от 166 см до 190 см</li>\n",
    "        <li>г). от 166 см до 182 см</li>\n",
    "        <li>д). от 158 см до 190 см</li>\n",
    "        <li>е). не выше 150 см или не ниже 190 см</li>\n",
    "        <li>ё). не выше 150 см или не ниже 198 см</li>\n",
    "        <li>ж). ниже 166 см.</li>\n",
    "    </ul>\n",
    "</li>\n",
    "\n",
    "<li>На сколько сигм (средних квадратичных отклонений) отклоняется рост человека, равный 190 см, от\n",
    "математического ожидания роста в популяции, в которой M(X) = 178 см и D(X) = 25 кв.см?</li>\n",
    "</ul>"
   ]
  },
  {
   "cell_type": "code",
   "execution_count": 37,
   "metadata": {},
   "outputs": [],
   "source": [
    "import matplotlib.pyplot as plt\n",
    "import numpy as np"
   ]
  },
  {
   "cell_type": "markdown",
   "metadata": {},
   "source": [
    "<strong>1 Случайная непрерывная величина A имеет равномерное распределение на промежутке (200, 800].\n",
    "Найдите ее среднее значение и дисперсию.</strong>\n",
    "\n",
    "#### $M(x) = \\frac{\\sum \\limits _{i=1} ^{600} x_i}{600} = 500$\n",
    "#### $D(x) = \\frac{\\sum \\limits _{i=1} ^{600} (x_i - x)^2}{600} = 30000$"
   ]
  },
  {
   "cell_type": "code",
   "execution_count": 38,
   "metadata": {},
   "outputs": [
    {
     "name": "stdout",
     "output_type": "stream",
     "text": [
      "M(x) = 500\n",
      "D(x) = 30000\n"
     ]
    },
    {
     "data": {
      "image/png": "[encoded data removed]",
      "text/plain": [
       "<Figure size 432x288 with 1 Axes>"
      ]
     },
     "metadata": {},
     "output_type": "display_data"
    }
   ],
   "source": [
    "from scipy.stats import norm\n",
    "import numpy as np\n",
    "import matplotlib.pyplot as plt\n",
    "import seaborn as sb\n",
    "\n",
    "data = np.arange(200,800,1)\n",
    "pdf = norm.pdf(data , loc = data.mean() , scale = data.std())\n",
    "\n",
    "sb.set_style('whitegrid')\n",
    "sb.lineplot(x = data, y = pdf , color = 'black')\n",
    "plt.xlabel('Heights')\n",
    "plt.ylabel('Probability Density')\n",
    "print(f'M(x) = {round(data.mean())}')\n",
    "print(f'D(x) = {round(data.var())}')\n"
   ]
  },
  {
   "cell_type": "markdown",
   "metadata": {},
   "source": [
    "<strong>2 О случайной непрерывной равномерно распределенной величине B известно, что ее дисперсия равна 0.2.\n",
    "Можно ли найти правую границу величины B и ее среднее значение зная, что левая граница равна 0.5?\n",
    "Если да, найдите ее.</strong>\n",
    "\n",
    "#### $D(x) = 0.2$\n",
    "\n",
    "#### $left = 0.5$\n",
    "\n",
    "#### $D(x) = \\frac{x_i - x}{n} = 30000$\n"
   ]
  },
  {
   "cell_type": "markdown",
   "metadata": {},
   "source": [
    "<strong>\n",
    "3 Непрерывная случайная величина X распределена нормально и задана плотностью распределения\n",
    "f(x) = (1 / (4 * sqrt(2pi))) * exp((-(x+2)**2) / 32)\n",
    "Найдите:\n",
    "    <ul>\n",
    "        <li>а). M(X)</li>\n",
    "        <li>б). D(X)</li>\n",
    "        <li>в). std(X) (среднее квадратичное отклонение)</li>\n",
    "    </ul>\n",
    "</strong>\n",
    "\n",
    "#### $f(x) = \\frac{1}{4 \\cdot \\sqrt{2pi}} \\cdot e^ {- \\frac{(x+2)^2} {32})}$\n",
    "\n",
    "#### $M(x) = -2$\n",
    "\n",
    "#### $D(x) = 16$\n",
    "\n",
    "#### $std(x) = 4$"
   ]
  },
  {
   "cell_type": "markdown",
   "metadata": {},
   "source": [
    "<strong>4 Рост взрослого населения города X имеет нормальное распределение.\n",
    "Причем, средний рост равен 174 см, а среднее квадратичное отклонение равно 8 см.\n",
    "Какова вероятность того, что случайным образом выбранный взрослый человек имеет рост:\n",
    "    <ul>\n",
    "        <li>а). больше 182 см</li>\n",
    "        <li>б). больше 190 см</li>\n",
    "        <li>в). от 166 см до 190 см</li>\n",
    "        <li>г). от 166 см до 182 см</li>\n",
    "        <li>д). от 158 см до 190 см</li>\n",
    "        <li>е). не выше 150 см или не ниже 190 см</li>\n",
    "        <li>ё). не выше 150 см или не ниже 198 см</li>\n",
    "        <li>ж). ниже 166 см.</li>\n",
    "    </ul>\n",
    "</strong>\n",
    "\n",
    "<img src = 'https://wiki.loginom.ru/images/3-sigma.svg'>\n",
    "\n",
    "<ul>\n",
    "    <li>а)15.9</li>\n",
    "    <li>б)2.3</li>\n",
    "    <li>в)81.8</li>\n",
    "    <li>г)68.2</li>\n",
    "    <li>д)95.39999999999999</li>\n",
    "    <li>е)2.4499999999999997</li>\n",
    "    <li>ё)2.3</li>\n",
    "    <li>ж)15.899999999999999</li>\n",
    "</ul>"
   ]
  },
  {
   "cell_type": "code",
   "execution_count": 61,
   "metadata": {},
   "outputs": [
    {
     "name": "stdout",
     "output_type": "stream",
     "text": [
      "а)15.9\n",
      " б)2.3\n",
      " в)81.8\n",
      " г)68.2\n",
      " д)95.39999999999999\n",
      " е)2.4499999999999997\n",
      " ё)2.3\n",
      " ж)15.899999999999999\n",
      "\n"
     ]
    }
   ],
   "source": [
    "a = 13.6 + 2.15 + 0.15\n",
    "b = 2.15 + 0.15\n",
    "c = 34.1 + 34.1 + 13.6\n",
    "d = 34.1 + 34.1\n",
    "e = c + 13.6\n",
    "f = 2.15 + 0.15 + 0.15\n",
    "g = f - 0.15\n",
    "h = g + 13.6\n",
    "\n",
    "print(f'а){a}\\n б){b}\\n в){c}\\n г){d}\\n д){e}\\n е){f}\\n ё){g}\\n ж){h}\\n')\n"
   ]
  },
  {
   "cell_type": "markdown",
   "metadata": {},
   "source": [
    "<strong>5 На сколько сигм (средних квадратичных отклонений) отклоняется рост человека, равный 190 см, от\n",
    "математического ожидания роста в популяции, в которой M(X) = 178 см и D(X) = 25 кв.см?</strong>\n",
    "\n",
    "Ответ: на $2.4$ сигм"
   ]
  },
  {
   "cell_type": "code",
   "execution_count": 44,
   "metadata": {},
   "outputs": [
    {
     "name": "stdout",
     "output_type": "stream",
     "text": [
      "2.4\n"
     ]
    }
   ],
   "source": [
    "std = 25**(1/2)\n",
    "print((190-178)/std)"
   ]
  }
 ],
 "metadata": {
  "kernelspec": {
   "display_name": "Python 3.9.13 64-bit",
   "language": "python",
   "name": "python3"
  },
  "language_info": {
   "codemirror_mode": {
    "name": "ipython",
    "version": 3
   },
   "file_extension": ".py",
   "mimetype": "text/x-python",
   "name": "python",
   "nbconvert_exporter": "python",
   "pygments_lexer": "ipython3",
   "version": "3.9.13"
  },
  "orig_nbformat": 4,
  "vscode": {
   "interpreter": {
    "hash": "50292dbb1f747f7151d445135d392af3138fb3c65386d17d9510cb605222b10b"
   }
  }
 },
 "nbformat": 4,
 "nbformat_minor": 2
}
