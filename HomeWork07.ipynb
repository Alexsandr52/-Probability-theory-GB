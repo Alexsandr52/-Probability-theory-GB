{
 "cells": [
  {
   "cell_type": "markdown",
   "metadata": {},
   "source": [
    "<h3>Задания</h3>\n",
    "<ul>\n",
    "<li>Даны значения величины заработной платы заемщиков банка (zp) и значения их поведенческого кредитного скоринга (ks): zp = [35, 45, 190, 200, 40, 70, 54, 150, 120, 110], ks = [401, 574, 874, 919, 459, 739, 653, 902, 746, 832]. Используя математические операции, посчитать коэффициенты линейной регрессии, приняв за X заработную плату (то есть, zp - признак), а за y - значения скорингового балла (то есть, ks - целевая переменная). Произвести расчет как с использованием intercept, так и без.</li>\n",
    "<br>\n",
    "<li>Посчитать коэффициент линейной регрессии при заработной плате (zp), используя градиентный спуск (без intercept).</li>\n",
    "<br>\n",
    "<li>*3. Произвести вычисления как в пункте 2, но с вычислением intercept. Учесть, что изменение коэффициентов должно производиться\n",
    "на каждом шаге одновременно (то есть изменение одного коэффициента не должно влиять на изменение другого во время одной итерации).</li>\n",
    "</ul>"
   ]
  },
  {
   "cell_type": "code",
   "execution_count": 37,
   "metadata": {},
   "outputs": [],
   "source": [
    "import matplotlib.pyplot as plt\n",
    "import numpy as np\n"
   ]
  },
  {
   "cell_type": "markdown",
   "metadata": {},
   "source": [
    "<h3>Задание 1</h3>\n",
    "<p>Даны значения величины заработной платы заемщиков банка (zp) и значения их поведенческого кредитного скоринга (ks): zp = [35, 45, 190, 200, 40,<br> 70, 54, 150, 120, 110], ks = [401, 574, 874, 919, 459, 739, 653, 902, 746, 832]. Используя математические операции, посчитать коэффициенты <br>линейной регрессии, приняв за X заработную плату (то есть, zp - признак), а за y - значения скорингового балла (то есть, ks - целевая переменная). Произвести расчет как с использованием intercept, так и без.</p>\n",
    "\n",
    "#### $b = \\frac{\\overline{yx} - \\overline{y} \\cdot {\\overline{x}}}{\\overline{x^2} - (\\overline{x})^2};$\n",
    "\n",
    "#### $a = \\overline{y} - b \\cdot {\\overline{x}}.$"
   ]
  },
  {
   "cell_type": "code",
   "execution_count": 42,
   "metadata": {},
   "outputs": [
    {
     "name": "stdout",
     "output_type": "stream",
     "text": [
      "b = 2.620538882402765, a = 444.1773573243596\n"
     ]
    }
   ],
   "source": [
    "zp = np.array([35, 45, 190, 200, 40, 70, 54, 150, 120, 110])\n",
    "ks = np.array([401, 574, 874, 919, 459, 739, 653, 902, 746, 832])\n",
    "b = (np.mean(zp * ks) - np.mean(zp) * np.mean(ks)) / (np.mean(zp * zp) - np.mean(zp)**2)\n",
    "a = np.mean(ks) - b * np.mean(zp)\n",
    "print(f'b = {b}, a = {a}')\n"
   ]
  },
  {
   "cell_type": "markdown",
   "metadata": {},
   "source": [
    "#### $b = (x^T \\cdot x)^{-1} \\cdot x^T \\cdot y$"
   ]
  },
  {
   "cell_type": "code",
   "execution_count": 39,
   "metadata": {},
   "outputs": [
    {
     "name": "stdout",
     "output_type": "stream",
     "text": [
      "[[5.88982042]]\n",
      "[[444.17735732]\n",
      " [  2.62053888]]\n"
     ]
    }
   ],
   "source": [
    "zp = zp.reshape(10,1)\n",
    "ks = ks.reshape(10,1)\n",
    "b1 = np.linalg.inv((np.transpose(zp) @ zp)) @ np.transpose(zp) @ ks\n",
    "print(b1)\n",
    "zp = np.hstack([np.ones((10,1)), zp])\n",
    "b2 = np.linalg.inv((np.transpose(zp) @ zp)) @ np.transpose(zp) @ ks\n",
    "print(b2)"
   ]
  },
  {
   "cell_type": "code",
   "execution_count": 43,
   "metadata": {},
   "outputs": [
    {
     "data": {
      "text/plain": [
       "[<matplotlib.lines.Line2D at 0x7f92629d17f0>]"
      ]
     },
     "execution_count": 43,
     "metadata": {},
     "output_type": "execute_result"
    },
    {
     "data": {
      "image/png": "[encoded data removed]",
      "text/plain": [
       "<Figure size 432x288 with 1 Axes>"
      ]
     },
     "metadata": {
      "needs_background": "light"
     },
     "output_type": "display_data"
    }
   ],
   "source": [
    "plt.scatter(zp, ks)\n",
    "x = np.array(range(0, 200))\n",
    "plt.plot(x, (a + b*x))"
   ]
  },
  {
   "cell_type": "markdown",
   "metadata": {},
   "source": [
    "<h3>Задание 2</h3>\n",
    "Посчитать коэффициент линейной регрессии при заработной плате (zp), используя градиентный спуск (без intercept)."
   ]
  },
  {
   "cell_type": "code",
   "execution_count": 63,
   "metadata": {},
   "outputs": [
    {
     "name": "stdout",
     "output_type": "stream",
     "text": [
      "i = 0, mse = 129.26618552337092, b = 0.10797640400000001\n",
      "i = 500, mse = 43.13550234327866, b = 2.9877693785316017\n",
      "i = 1000, mse = 21.436726011421833, b = 4.433208961131227\n",
      "i = 1500, mse = 15.970185204872532, b = 5.158710969582227\n",
      "i = 2000, mse = 14.593007619710914, b = 5.522858437662347\n",
      "i = 2500, mse = 14.246057296245063, b = 5.705633091577195\n",
      "i = 3000, mse = 14.158650611551652, b = 5.79737222761958\n",
      "i = 3500, mse = 14.136630374035294, b = 5.8434183773539115\n",
      "i = 4000, mse = 14.13108284798534, b = 5.8665300829664115\n",
      "i = 4500, mse = 14.129685267906925, b = 5.8781304217439345\n"
     ]
    }
   ],
   "source": [
    "zp = np.array([35, 45, 190, 200, 40, 70, 54, 150, 120, 110])\n",
    "ks = np.array([401, 574, 874, 919, 459, 739, 653, 902, 746, 832])\n",
    "\n",
    "n=len(x)\n",
    "b = 0.1\n",
    "a = 0.000001\n",
    "\n",
    "\n",
    "def mse(b, y=ks, x=zp, n=n):\n",
    "    return 1/n * np.sum(((b * x - y) ** 2) / n)\n",
    "\n",
    "for i in range(5000):\n",
    "    b -= a * (2 / n) * np.sum((b * zp - ks) * zp)\n",
    "    if i % 500 == 0:\n",
    "        print(f'i = {i}, mse = {mse(b)}, b = {b}')"
   ]
  },
  {
   "cell_type": "code",
   "execution_count": 64,
   "metadata": {},
   "outputs": [
    {
     "data": {
      "text/plain": [
       "[<matplotlib.lines.Line2D at 0x7f9250359fd0>]"
      ]
     },
     "execution_count": 64,
     "metadata": {},
     "output_type": "execute_result"
    },
    {
     "data": {
      "image/png": "[encoded data removed]",
      "text/plain": [
       "<Figure size 432x288 with 1 Axes>"
      ]
     },
     "metadata": {
      "needs_background": "light"
     },
     "output_type": "display_data"
    }
   ],
   "source": [
    "plt.scatter(zp, ks)\n",
    "x = np.array(range(0, 200))\n",
    "a = np.mean(ks) - b * np.mean(zp)\n",
    "plt.plot(x, (a + b*x))"
   ]
  }
 ],
 "metadata": {
  "kernelspec": {
   "display_name": "Python 3.9.12 64-bit ('anaconda3')",
   "language": "python",
   "name": "python3"
  },
  "language_info": {
   "codemirror_mode": {
    "name": "ipython",
    "version": 3
   },
   "file_extension": ".py",
   "mimetype": "text/x-python",
   "name": "python",
   "nbconvert_exporter": "python",
   "pygments_lexer": "ipython3",
   "version": "3.9.12"
  },
  "orig_nbformat": 4,
  "vscode": {
   "interpreter": {
    "hash": "d11ae6c9839333a68c30509d5c604efb586e3d76d4ea1bbf5296b03e76753814"
   }
  }
 },
 "nbformat": 4,
 "nbformat_minor": 2
}
